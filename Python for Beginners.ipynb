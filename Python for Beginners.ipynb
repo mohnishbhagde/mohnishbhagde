{
 "cells": [
  {
   "cell_type": "code",
   "execution_count": 1,
   "id": "87cc911d",
   "metadata": {},
   "outputs": [
    {
     "name": "stdout",
     "output_type": "stream",
     "text": [
      "Enter your age: 35\n"
     ]
    }
   ],
   "source": [
    "age = input(\"Enter your age: \")"
   ]
  },
  {
   "cell_type": "code",
   "execution_count": 2,
   "id": "1544fe0d",
   "metadata": {},
   "outputs": [
    {
     "data": {
      "text/plain": [
       "str"
      ]
     },
     "execution_count": 2,
     "metadata": {},
     "output_type": "execute_result"
    }
   ],
   "source": [
    "type(age)"
   ]
  },
  {
   "cell_type": "code",
   "execution_count": 3,
   "id": "4325cdd9",
   "metadata": {},
   "outputs": [],
   "source": [
    "x = 10\n",
    "y = x\n",
    "y = 20"
   ]
  },
  {
   "cell_type": "code",
   "execution_count": 4,
   "id": "4bc4a124",
   "metadata": {},
   "outputs": [
    {
     "data": {
      "text/plain": [
       "20"
      ]
     },
     "execution_count": 4,
     "metadata": {},
     "output_type": "execute_result"
    }
   ],
   "source": [
    "y"
   ]
  },
  {
   "cell_type": "code",
   "execution_count": 5,
   "id": "4ce7bb3f",
   "metadata": {},
   "outputs": [
    {
     "data": {
      "text/plain": [
       "10"
      ]
     },
     "execution_count": 5,
     "metadata": {},
     "output_type": "execute_result"
    }
   ],
   "source": [
    "x"
   ]
  },
  {
   "cell_type": "code",
   "execution_count": 10,
   "id": "12d329d5",
   "metadata": {},
   "outputs": [
    {
     "name": "stdout",
     "output_type": "stream",
     "text": [
      "Enter your marks: 75\n"
     ]
    }
   ],
   "source": [
    "# ask user to enter marks. marks>90 then print 'great' else if marks>80 then 'good' else 'fair'\n",
    "\n",
    "marks = float(input(\"Enter your marks: \"))"
   ]
  },
  {
   "cell_type": "code",
   "execution_count": 11,
   "id": "6507680d",
   "metadata": {},
   "outputs": [
    {
     "name": "stdout",
     "output_type": "stream",
     "text": [
      "fair\n"
     ]
    }
   ],
   "source": [
    "if marks > 90:\n",
    "    print (\"great\")\n",
    "elif marks > 80 and marks < 90:\n",
    "    print (\"good\")\n",
    "else:\n",
    "    print (\"fair\")"
   ]
  },
  {
   "cell_type": "code",
   "execution_count": 13,
   "id": "3c9f2020",
   "metadata": {},
   "outputs": [
    {
     "data": {
      "text/plain": [
       "list"
      ]
     },
     "execution_count": 13,
     "metadata": {},
     "output_type": "execute_result"
    }
   ],
   "source": [
    "list_marks = [9,3,4,5,3]\n",
    "type(list_marks)"
   ]
  },
  {
   "cell_type": "code",
   "execution_count": 15,
   "id": "9704dc6d",
   "metadata": {},
   "outputs": [
    {
     "name": "stdout",
     "output_type": "stream",
     "text": [
      "9\n",
      "3\n",
      "4\n",
      "5\n",
      "3\n"
     ]
    }
   ],
   "source": [
    "for value in list_marks:\n",
    "    print (value)"
   ]
  },
  {
   "cell_type": "code",
   "execution_count": 17,
   "id": "ffa9e890",
   "metadata": {},
   "outputs": [
    {
     "name": "stdout",
     "output_type": "stream",
     "text": [
      "10\n",
      "30\n",
      "50\n",
      "70\n",
      "90\n",
      "Out of while loop 110\n"
     ]
    }
   ],
   "source": [
    "x = 10\n",
    "while (x<=100):\n",
    "    print(x)\n",
    "    x=x+20\n",
    "else:\n",
    "    print (\"Out of while loop\", x)"
   ]
  },
  {
   "cell_type": "code",
   "execution_count": 24,
   "id": "e987b1ce",
   "metadata": {},
   "outputs": [],
   "source": [
    "def marks_to_compliment(marks):\n",
    "    if marks > 90:\n",
    "        print (\"great\")\n",
    "    elif marks > 80 and marks < 90:\n",
    "        print (\"good\")\n",
    "    else:\n",
    "        print (\"fair\")"
   ]
  },
  {
   "cell_type": "code",
   "execution_count": 26,
   "id": "a916c830",
   "metadata": {},
   "outputs": [
    {
     "name": "stdout",
     "output_type": "stream",
     "text": [
      "good\n"
     ]
    }
   ],
   "source": [
    "output = marks_to_compliment(89)"
   ]
  },
  {
   "cell_type": "code",
   "execution_count": null,
   "id": "4a5b8d15",
   "metadata": {},
   "outputs": [],
   "source": []
  }
 ],
 "metadata": {
  "kernelspec": {
   "display_name": "Python 3",
   "language": "python",
   "name": "python3"
  },
  "language_info": {
   "codemirror_mode": {
    "name": "ipython",
    "version": 3
   },
   "file_extension": ".py",
   "mimetype": "text/x-python",
   "name": "python",
   "nbconvert_exporter": "python",
   "pygments_lexer": "ipython3",
   "version": "3.8.8"
  }
 },
 "nbformat": 4,
 "nbformat_minor": 5
}
