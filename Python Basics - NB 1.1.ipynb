{
 "cells": [
  {
   "cell_type": "markdown",
   "id": "df10e55b",
   "metadata": {},
   "source": [
    "# This is my first training notebook\n",
    "\n",
    "This is to try Python commands\n",
    "\n",
    "## 1st Notebook"
   ]
  },
  {
   "cell_type": "code",
   "execution_count": 32,
   "id": "92a59c35",
   "metadata": {},
   "outputs": [
    {
     "data": {
      "text/plain": [
       "40"
      ]
     },
     "execution_count": 32,
     "metadata": {},
     "output_type": "execute_result"
    }
   ],
   "source": [
    "20+20"
   ]
  },
  {
   "cell_type": "code",
   "execution_count": 33,
   "id": "497068ba",
   "metadata": {},
   "outputs": [
    {
     "name": "stdout",
     "output_type": "stream",
     "text": [
      "Today is a new day\n"
     ]
    }
   ],
   "source": [
    "print(\"Today is a new day\")"
   ]
  },
  {
   "cell_type": "code",
   "execution_count": 34,
   "id": "b5ccee77",
   "metadata": {},
   "outputs": [],
   "source": [
    "name = \"Mohnish\"\n",
    "age = 37\n",
    "email = \"mohnish.bhagde@gmail.com\""
   ]
  },
  {
   "cell_type": "code",
   "execution_count": 35,
   "id": "1c60d4dc",
   "metadata": {},
   "outputs": [
    {
     "name": "stdout",
     "output_type": "stream",
     "text": [
      "Mohnish 37 mohnish.bhagde@gmail.com\n"
     ]
    }
   ],
   "source": [
    "print (name,age,email)"
   ]
  },
  {
   "cell_type": "code",
   "execution_count": 2,
   "id": "c1b6691c",
   "metadata": {},
   "outputs": [
    {
     "name": "stdout",
     "output_type": "stream",
     "text": [
      "your name hereMohnish Bhagde\n"
     ]
    }
   ],
   "source": [
    "name = input(\"your name here\")"
   ]
  },
  {
   "cell_type": "code",
   "execution_count": 36,
   "id": "34bedc0a",
   "metadata": {},
   "outputs": [
    {
     "name": "stdout",
     "output_type": "stream",
     "text": [
      "hello\n",
      "goodbye\n",
      "whatever\n"
     ]
    }
   ],
   "source": [
    "print ('hello')\n",
    "print ('goodbye')\n",
    "print ('whatever')"
   ]
  },
  {
   "cell_type": "code",
   "execution_count": 9,
   "id": "e75cd73c",
   "metadata": {},
   "outputs": [
    {
     "data": {
      "text/plain": [
       "40"
      ]
     },
     "execution_count": 9,
     "metadata": {},
     "output_type": "execute_result"
    }
   ],
   "source": [
    "10+10\n",
    "20+20 # I am in edit mode "
   ]
  },
  {
   "cell_type": "code",
   "execution_count": 37,
   "id": "db93e732",
   "metadata": {},
   "outputs": [
    {
     "name": "stdout",
     "output_type": "stream",
     "text": [
      "101\n"
     ]
    }
   ],
   "source": [
    "x=100\n",
    "\n",
    "y=x+1\n",
    "print (y)"
   ]
  },
  {
   "cell_type": "code",
   "execution_count": 10,
   "id": "0321f699",
   "metadata": {},
   "outputs": [],
   "source": [
    "x=100"
   ]
  },
  {
   "cell_type": "code",
   "execution_count": 45,
   "id": "da4b2274",
   "metadata": {},
   "outputs": [
    {
     "data": {
      "text/plain": [
       "40"
      ]
     },
     "execution_count": 45,
     "metadata": {},
     "output_type": "execute_result"
    }
   ],
   "source": [
    "10+10\n",
    "20+20 # I am in edit mode "
   ]
  },
  {
   "cell_type": "code",
   "execution_count": 48,
   "id": "a2587a05",
   "metadata": {},
   "outputs": [
    {
     "name": "stdout",
     "output_type": "stream",
     "text": [
      "101\n",
      "102\n"
     ]
    }
   ],
   "source": [
    "y=x+1\n",
    "print (y)\n",
    "print (y+1)"
   ]
  },
  {
   "cell_type": "code",
   "execution_count": 40,
   "id": "7b6d2cdb",
   "metadata": {
    "scrolled": true
   },
   "outputs": [
    {
     "name": "stdout",
     "output_type": "stream",
     "text": [
      "Requirement already satisfied: pandas in c:\\users\\mohni\\anaconda3\\lib\\site-packages (1.2.4)\n",
      "Requirement already satisfied: numpy>=1.16.5 in c:\\users\\mohni\\anaconda3\\lib\\site-packages (from pandas) (1.20.1)\n",
      "Requirement already satisfied: python-dateutil>=2.7.3 in c:\\users\\mohni\\anaconda3\\lib\\site-packages (from pandas) (2.8.1)\n",
      "Requirement already satisfied: pytz>=2017.3 in c:\\users\\mohni\\anaconda3\\lib\\site-packages (from pandas) (2021.1)\n",
      "Requirement already satisfied: six>=1.5 in c:\\users\\mohni\\anaconda3\\lib\\site-packages (from python-dateutil>=2.7.3->pandas) (1.15.0)\n"
     ]
    }
   ],
   "source": [
    "!pip install pandas"
   ]
  },
  {
   "cell_type": "code",
   "execution_count": 14,
   "id": "26f46213",
   "metadata": {},
   "outputs": [
    {
     "name": "stdout",
     "output_type": "stream",
     "text": [
      "Requirement already satisfied: NumPy in c:\\users\\mohni\\anaconda3\\lib\\site-packages (1.20.1)\n"
     ]
    }
   ],
   "source": [
    "!pip install NumPy"
   ]
  },
  {
   "cell_type": "code",
   "execution_count": 52,
   "id": "543b16cb",
   "metadata": {
    "scrolled": true
   },
   "outputs": [
    {
     "name": "stdout",
     "output_type": "stream",
     "text": [
      "a is of type <class 'int'> and its value is 3\n",
      "b is of type <class 'float'> and its value is 2.1\n",
      "c is of type <class 'float'> and its value is 0.7000000000000001\n",
      "a is of type <class 'int'> and its value is 3\n",
      "b is of type <class 'float'> and its value is 2.1\n"
     ]
    }
   ],
   "source": [
    "# Inspect the type of variable\n",
    "a=3\n",
    "print ('a is of type', type(a), 'and its value is', a)\n",
    "b=2.1\n",
    "print ('b is of type', type(b), 'and its value is', b)\n",
    "c=b/a\n",
    "print ('c is of type', type(b), 'and its value is', c)\n",
    "print ('a is of type', type(a), 'and its value is', a)\n",
    "print ('b is of type', type(b), 'and its value is', b)\n"
   ]
  },
  {
   "cell_type": "markdown",
   "id": "0465c9c0",
   "metadata": {},
   "source": [
    "# 4 main types of collection of variables\n",
    "1. List\n",
    "2. Tuple\n",
    "3. Set\n",
    "4. Dictionary"
   ]
  },
  {
   "cell_type": "code",
   "execution_count": 57,
   "id": "5ea32690",
   "metadata": {},
   "outputs": [
    {
     "name": "stdout",
     "output_type": "stream",
     "text": [
      "['dan', 1, 3, 4, 'python', 2]\n",
      "dan\n",
      "6\n"
     ]
    }
   ],
   "source": [
    "sample_list=['dan',1,3,4,'python',2]\n",
    "print (sample_list)\n",
    "print (sample_list[0]) # index list starts with 0\n",
    "print (len(sample_list))"
   ]
  },
  {
   "cell_type": "code",
   "execution_count": 79,
   "id": "3f605e6b",
   "metadata": {},
   "outputs": [
    {
     "name": "stdout",
     "output_type": "stream",
     "text": [
      "['dan', 'sam', 32, 32, 2, 'to the end', 'to the end', 'to the end']\n",
      "['dan', 'sam', 32, 2, 'to the end', 'to the end', 'to the end']\n",
      "7\n",
      "[32, 2, 'to the end']\n"
     ]
    }
   ],
   "source": [
    "sample_list[3]=32\n",
    "sample_list.append('to the end')\n",
    "print(sample_list)\n",
    "sample_list.pop(2)\n",
    "print(sample_list)\n",
    "print (len(sample_list))\n",
    "print (sample_list[2:5])"
   ]
  },
  {
   "cell_type": "code",
   "execution_count": 63,
   "id": "0bc9340f",
   "metadata": {},
   "outputs": [
    {
     "name": "stdout",
     "output_type": "stream",
     "text": [
      "['dan', ['x', 'y'], 32, 'python', 2, 'to the end', 'to the end']\n",
      "['x', 'y']\n"
     ]
    }
   ],
   "source": [
    "sample_list[1]=['x','y']\n",
    "print(sample_list)\n",
    "print(sample_list[1])"
   ]
  },
  {
   "cell_type": "code",
   "execution_count": 68,
   "id": "10baf528",
   "metadata": {},
   "outputs": [
    {
     "name": "stdout",
     "output_type": "stream",
     "text": [
      "['dan', 'sam', 32, 'python', 2, 'to the end', 'to the end']\n",
      "['dan', 'sam', 32, 'python', 2, 'to the end', 'to the end']\n",
      "new_list is:  ['dan', 'sam', 32, 'python', 2, 'to the end', 'to the end']\n",
      "sameple_list is:  ['dan', 'sam', 32, 'python', 2, 'to the end', 'to the end']\n",
      "['dan', 'sam', 32, 'python', 2, 'to the end', 'to the end']\n",
      "['dan', 'sam', 32, 'python', 2, 'to the end', 'to the end']\n",
      "new_list1 is:  ['dan', 'van', 32, 'python', 2, 'to the end', 'to the end']\n",
      "sameple_list is:  ['dan', 'sam', 32, 'python', 2, 'to the end', 'to the end']\n"
     ]
    }
   ],
   "source": [
    "new_list=sample_list\n",
    "print (new_list)\n",
    "print (sample_list)\n",
    "new_list[1] = 'sam'\n",
    "print ('new_list is: ',new_list)\n",
    "print ('sameple_list is: ',sample_list)\n",
    "\n",
    "# Change in the new variable are replicated to original variable\n",
    "\n",
    "# to prevent use .copy() function\n",
    "\n",
    "new_list1 = sample_list.copy()\n",
    "print (new_list1)\n",
    "print (sample_list)\n",
    "new_list1[1] = 'van'\n",
    "print ('new_list1 is: ',new_list1)\n",
    "print ('sameple_list is: ',sample_list)"
   ]
  },
  {
   "cell_type": "code",
   "execution_count": 72,
   "id": "1637e08c",
   "metadata": {},
   "outputs": [
    {
     "name": "stdout",
     "output_type": "stream",
     "text": [
      "[12, 'ban', 3, 5, 'xxx']\n"
     ]
    }
   ],
   "source": [
    "# Tuple - nonchangeable and indexed\n",
    "\n",
    "simple_tuple = [12,'ban',3,5,'xxx']\n",
    "print (simple_tuple)"
   ]
  },
  {
   "cell_type": "code",
   "execution_count": 74,
   "id": "08fd6a09",
   "metadata": {},
   "outputs": [
    {
     "name": "stdout",
     "output_type": "stream",
     "text": [
      "{'water', 2, 11, -2}\n"
     ]
    }
   ],
   "source": [
    "# Set unordered collection of values that are changeable ..there is no order and does not allow duplicates\n",
    "simple_set = {11,2,'water',-2}\n",
    "print(simple_set)"
   ]
  },
  {
   "cell_type": "code",
   "execution_count": 76,
   "id": "7bcd3d4f",
   "metadata": {},
   "outputs": [
    {
     "ename": "TypeError",
     "evalue": "'set' object is not subscriptable",
     "output_type": "error",
     "traceback": [
      "\u001b[1;31m---------------------------------------------------------------------------\u001b[0m",
      "\u001b[1;31mTypeError\u001b[0m                                 Traceback (most recent call last)",
      "\u001b[1;32m<ipython-input-76-94de4f49bb27>\u001b[0m in \u001b[0;36m<module>\u001b[1;34m\u001b[0m\n\u001b[1;32m----> 1\u001b[1;33m \u001b[0mprint\u001b[0m\u001b[1;33m(\u001b[0m\u001b[0msimple_set\u001b[0m\u001b[1;33m[\u001b[0m\u001b[1;36m1\u001b[0m\u001b[1;33m]\u001b[0m\u001b[1;33m)\u001b[0m \u001b[1;31m# will not work\u001b[0m\u001b[1;33m\u001b[0m\u001b[1;33m\u001b[0m\u001b[0m\n\u001b[0m",
      "\u001b[1;31mTypeError\u001b[0m: 'set' object is not subscriptable"
     ]
    }
   ],
   "source": [
    "print(simple_set[1]) # will not work\n"
   ]
  },
  {
   "cell_type": "code",
   "execution_count": 78,
   "id": "b1a0f3df",
   "metadata": {},
   "outputs": [
    {
     "name": "stdout",
     "output_type": "stream",
     "text": [
      "{1: 'apple', 2: 'samsung', 3: 'nokia'}\n",
      "I brought phone of brand apple\n"
     ]
    }
   ],
   "source": [
    "# Distionary .. indexed and changeable with key:value pair\n",
    "\n",
    "simple_dic = {1:'apple', 2:'samsung', 3:'nokia'}\n",
    "print (simple_dic)\n",
    "print ('I brought phone of brand', simple_dic[1])"
   ]
  },
  {
   "cell_type": "code",
   "execution_count": 82,
   "id": "9c2e80c2",
   "metadata": {},
   "outputs": [
    {
     "name": "stdout",
     "output_type": "stream",
     "text": [
      "i : 1\n",
      "counter is : 1\n",
      "i : 3\n",
      "counter is : 2\n",
      "i : 4\n",
      "counter is : 3\n",
      "i : 5\n",
      "counter is : 4\n",
      "i : 12\n",
      "counter is : 5\n",
      "i : 14\n",
      "counter is : 6\n",
      "i : 54\n",
      "counter is : 7\n",
      "i : 6575\n",
      "counter is : 8\n",
      "i : 23\n",
      "counter is : 9\n",
      "i : 235\n",
      "counter is : 10\n",
      "i : 6\n",
      "counter is : 11\n",
      "the loop cycled to : 11 times\n"
     ]
    }
   ],
   "source": [
    "# Loops - For and while\n",
    "\n",
    "counter = 0\n",
    "list = [1,3,4,5,12,14,54,6575,23,235,6]\n",
    "for i in list:\n",
    "    print ('i :',i)\n",
    "    counter = counter + 1\n",
    "    print ('counter is :', counter)\n",
    "print ('the loop cycled to :', counter, 'times')"
   ]
  },
  {
   "cell_type": "code",
   "execution_count": 84,
   "id": "78e62590",
   "metadata": {},
   "outputs": [
    {
     "name": "stdout",
     "output_type": "stream",
     "text": [
      "range(0, 4)\n"
     ]
    }
   ],
   "source": [
    "print (range(4))"
   ]
  },
  {
   "cell_type": "code",
   "execution_count": 90,
   "id": "18306b61",
   "metadata": {},
   "outputs": [
    {
     "name": "stdout",
     "output_type": "stream",
     "text": [
      "i 0\n",
      "i 1\n",
      "i 2\n",
      "i 3\n",
      "j 4\n",
      "j 5\n",
      "j 6\n",
      "j 7\n",
      "j 8\n",
      "j 9\n"
     ]
    }
   ],
   "source": [
    "for i in range (4):\n",
    "    print ('i', i)\n",
    "    \n",
    "for j in range (4,10):\n",
    "    print ('j', j)"
   ]
  },
  {
   "cell_type": "code",
   "execution_count": 91,
   "id": "8b36a7a7",
   "metadata": {},
   "outputs": [
    {
     "name": "stdout",
     "output_type": "stream",
     "text": [
      "4\n",
      "5\n",
      "6\n",
      "7\n",
      "8\n",
      "9\n",
      "outside of loop\n"
     ]
    }
   ],
   "source": [
    "i = 4\n",
    "while i < 10:\n",
    "    print (i)\n",
    "    i=i+1\n",
    "print ('outside of loop')"
   ]
  },
  {
   "cell_type": "code",
   "execution_count": 95,
   "id": "12f31be6",
   "metadata": {},
   "outputs": [
    {
     "name": "stdout",
     "output_type": "stream",
     "text": [
      "15 is less than 20\n"
     ]
    }
   ],
   "source": [
    "# Conditional statement - if, else, and elif\n",
    "\n",
    "i = 15\n",
    "if i<10:\n",
    "    print (i, 'is less than 10')\n",
    "elif i<20:\n",
    "    print (i, 'is less than 20')\n",
    "else:\n",
    "    print (i,'is greater than 10 and 20')"
   ]
  },
  {
   "cell_type": "code",
   "execution_count": 96,
   "id": "db16cb11",
   "metadata": {},
   "outputs": [
    {
     "name": "stdout",
     "output_type": "stream",
     "text": [
      "32\n"
     ]
    }
   ],
   "source": [
    "# User Defined Function - defined functions and Lambda functions (inline functions)\n",
    "def squareroot (x):\n",
    "    y=x*x\n",
    "    z=y+7\n",
    "    return (z)\n",
    "\n",
    "a = squareroot (5)\n",
    "print (a)"
   ]
  },
  {
   "cell_type": "code",
   "execution_count": 97,
   "id": "05b26b30",
   "metadata": {},
   "outputs": [
    {
     "name": "stdout",
     "output_type": "stream",
     "text": [
      "32\n"
     ]
    }
   ],
   "source": [
    "x2p7v2 = lambda x: x*x+7\n",
    "print (x2p7v2(5))"
   ]
  },
  {
   "cell_type": "code",
   "execution_count": 7,
   "id": "c8b305a4",
   "metadata": {},
   "outputs": [
    {
     "name": "stdout",
     "output_type": "stream",
     "text": [
      "2.0\n",
      "4.0\n"
     ]
    }
   ],
   "source": [
    "#OOP example\n",
    "class my_data_type: #class\n",
    "    def init_some_values (self, val2): # method\n",
    "        self.first_var = 2.0 # attribute\n",
    "        self.second_var = val2\n",
    "        return self.second_var\n",
    "    def multiply_vals(self):\n",
    "        return self.first_var*self.second_var\n",
    "    \n",
    "me = my_data_type() # object and initializer\n",
    "me.init_some_values(2.0)\n",
    "print (me.init_some_values(2.0))\n",
    "print (me.multiply_vals()) # run a method"
   ]
  },
  {
   "cell_type": "code",
   "execution_count": 8,
   "id": "5eef730a",
   "metadata": {},
   "outputs": [],
   "source": [
    "import os"
   ]
  },
  {
   "cell_type": "code",
   "execution_count": 10,
   "id": "a16dcdfc",
   "metadata": {},
   "outputs": [
    {
     "name": "stdout",
     "output_type": "stream",
     "text": [
      "nt\n"
     ]
    }
   ],
   "source": [
    "print(os.name)"
   ]
  },
  {
   "cell_type": "code",
   "execution_count": 15,
   "id": "6240fc3d",
   "metadata": {},
   "outputs": [
    {
     "name": "stdout",
     "output_type": "stream",
     "text": [
      "C:\\Users\\mohni\\Python Tutorials\n",
      ".\n"
     ]
    }
   ],
   "source": [
    "print (os.getcwd())\n",
    "print (os.curdir)\n"
   ]
  },
  {
   "cell_type": "code",
   "execution_count": 22,
   "id": "7d586170",
   "metadata": {},
   "outputs": [
    {
     "name": "stdout",
     "output_type": "stream",
     "text": [
      "78090.77777777778\n",
      "{'Tomato', 'flower:', 'vegetable:', 'Apple', 'fruit:', 'Rose'}\n"
     ]
    },
    {
     "data": {
      "text/plain": [
       "True"
      ]
     },
     "execution_count": 22,
     "metadata": {},
     "output_type": "execute_result"
    }
   ],
   "source": [
    "x=5\n",
    "y=7\n",
    "z=9\n",
    "\n",
    "a = (x**y) + (y/z) + (x-y) +(z-y) - (y*x)\n",
    "print (a)\n",
    "\n",
    "c= {\n",
    "\"fruit:\", \"Apple\",\n",
    "\"vegetable:\", \"Tomato\",\n",
    "\"flower:\", \"Rose\"\n",
    "}\n",
    "print (c)\n",
    "5 == (3 + 2)\n"
   ]
  },
  {
   "cell_type": "code",
   "execution_count": 30,
   "id": "2ed28d7f",
   "metadata": {},
   "outputs": [
    {
     "name": "stdout",
     "output_type": "stream",
     "text": [
      "36\n",
      "<class 'int'>\n",
      "3.0\n",
      "Five times a is 50\n",
      "Area of triangle: 0.0048828125\n",
      "1225.0\n"
     ]
    }
   ],
   "source": [
    "a = 3\n",
    "print(a + (33))\n",
    "print (type(a))\n",
    "print (float(a))\n",
    "a = 10 # assign variable a to literal 10\n",
    "print('Five times a is', 5*a)\n",
    "\n",
    "area = 0.5 ** 10 * 5\n",
    "print(\"Area of triangle:\", area)\n",
    "\n",
    "v = 10\n",
    "w = 25\n",
    "x = 70\n",
    "y = 2\n",
    "z = (v + w) * (x / y)\n",
    "print (z)"
   ]
  },
  {
   "cell_type": "code",
   "execution_count": 32,
   "id": "b9692671",
   "metadata": {},
   "outputs": [
    {
     "name": "stdout",
     "output_type": "stream",
     "text": [
      "A and B before swapping 10,5\n",
      "A and B after swapping 5,10\n"
     ]
    }
   ],
   "source": [
    "a = 10 \n",
    "b = 5\n",
    "print(\"A and B before swapping {},{}\".format(a,b))\n",
    "temp = a #create a third variable and assign the value of a to it\n",
    "a = b\n",
    "b = temp #value of a is in third variable so assign the value to b\n",
    "print(\"A and B after swapping {},{}\".format(a,b))"
   ]
  },
  {
   "cell_type": "code",
   "execution_count": 56,
   "id": "73365d03",
   "metadata": {},
   "outputs": [
    {
     "name": "stdout",
     "output_type": "stream",
     "text": [
      "[2, 2, 2, 2]\n",
      "orange\n",
      "['strawberries', 'orange', 'grapes', 'watermelon']\n",
      "a\n",
      "b\n",
      "c\n",
      "1\n",
      "144\n",
      "576\n",
      "1296\n",
      "121\n",
      "400\n",
      "2500\n"
     ]
    }
   ],
   "source": [
    "repeated_list = [2] * 4\n",
    "print(repeated_list)\n",
    "\n",
    "l = [\"apple\",\"orange\",\"grapes\",\"watermelon\"]\n",
    "print(l[1])\n",
    "l[0] = \"strawberries\"\n",
    "print(l)\n",
    "\n",
    "l = ['a','b','c']\n",
    "\n",
    "for i in l:\n",
    " print(i)\n",
    "\n",
    "number = [1, 12, 24, 36, 11, 20,50]\n",
    "for i in number:\n",
    " sq = i * i\n",
    " print(sq)\n",
    "    \n"
   ]
  },
  {
   "cell_type": "code",
   "execution_count": 67,
   "id": "a3708a38",
   "metadata": {},
   "outputs": [
    {
     "name": "stdout",
     "output_type": "stream",
     "text": [
      "6\n",
      "Audi\n"
     ]
    }
   ],
   "source": [
    "l = ['white','red', 'blue', 'green','blue','yellow', 'black']\n",
    "l.pop(5)\n",
    "print (len(l))\n",
    "car = { \"brand\" : \"Audi\",\"model\" : \"Q2\", \"year\" : 1980}\n",
    "print(car[\"brand\"])"
   ]
  },
  {
   "cell_type": "code",
   "execution_count": 80,
   "id": "68302d4b",
   "metadata": {},
   "outputs": [
    {
     "name": "stdout",
     "output_type": "stream",
     "text": [
      "-10\n",
      "-9\n",
      "-8\n",
      "-7\n",
      "-6\n",
      "-5\n",
      "-4\n",
      "-3\n",
      "-2\n",
      "-1\n"
     ]
    }
   ],
   "source": [
    "for i in range(-10, 0, 1):\n",
    " print(i)"
   ]
  },
  {
   "cell_type": "code",
   "execution_count": 82,
   "id": "2c97c3b4",
   "metadata": {},
   "outputs": [
    {
     "name": "stdout",
     "output_type": "stream",
     "text": [
      "1\n",
      "2\n",
      "3\n",
      "4\n",
      "5\n",
      "6\n",
      "7\n",
      "8\n",
      "9\n",
      "10\n"
     ]
    }
   ],
   "source": [
    "n = 10\n",
    "i = 1\n",
    "while i <= n:\n",
    " print(i)\n",
    " i=i+1"
   ]
  },
  {
   "cell_type": "code",
   "execution_count": 84,
   "id": "b0792e52",
   "metadata": {},
   "outputs": [
    {
     "name": "stdout",
     "output_type": "stream",
     "text": [
      "2\n",
      "4\n",
      "6\n",
      "8\n",
      "10\n",
      "12\n",
      "14\n",
      "16\n",
      "18\n",
      "20\n"
     ]
    }
   ],
   "source": [
    "for i in range(1, 21):\n",
    "    if i % 2 == 0:\n",
    "     print(i)"
   ]
  },
  {
   "cell_type": "code",
   "execution_count": 87,
   "id": "15a14123",
   "metadata": {},
   "outputs": [
    {
     "name": "stdout",
     "output_type": "stream",
     "text": [
      "5 * 1 = 5\n",
      "5 * 2 = 10\n",
      "5 * 3 = 15\n",
      "5 * 4 = 20\n",
      "5 * 5 = 25\n",
      "5 * 6 = 30\n",
      "5 * 7 = 35\n",
      "5 * 8 = 40\n",
      "5 * 9 = 45\n",
      "5 * 10 = 50\n"
     ]
    }
   ],
   "source": [
    "n = 5\n",
    "i = 1\n",
    "while i <= 10:\n",
    " print(\"{} * {} =\".format(n, i), n*i)\n",
    " i = i + 1"
   ]
  },
  {
   "cell_type": "code",
   "execution_count": 88,
   "id": "29565f12",
   "metadata": {},
   "outputs": [
    {
     "name": "stdout",
     "output_type": "stream",
     "text": [
      "8 ^ 1 = 8\n",
      "8 ^ 2 = 64\n",
      "8 ^ 3 = 512\n",
      "8 ^ 4 = 4096\n",
      "8 ^ 5 = 32768\n",
      "8 ^ 6 = 262144\n",
      "8 ^ 7 = 2097152\n",
      "8 ^ 8 = 16777216\n",
      "8 ^ 9 = 134217728\n",
      "8 ^ 10 = 1073741824\n"
     ]
    }
   ],
   "source": [
    "n = 8\n",
    "for i in range(1, 11):\n",
    " print(\"{} ^ {} =\".format(n, i), n**i)"
   ]
  },
  {
   "cell_type": "code",
   "execution_count": 95,
   "id": "59bc9ab3",
   "metadata": {},
   "outputs": [
    {
     "name": "stdout",
     "output_type": "stream",
     "text": [
      "1\n",
      "2\n",
      "Fizz 3\n",
      "4\n",
      "Buzz 5\n",
      "Fizz 6\n",
      "7\n",
      "8\n",
      "Fizz 9\n",
      "Buzz 10\n",
      "11\n",
      "Fizz 12\n",
      "13\n",
      "14\n",
      "FizzBuzz 15\n",
      "16\n",
      "17\n",
      "Fizz 18\n",
      "19\n",
      "Buzz 20\n",
      "Fizz 21\n",
      "22\n",
      "23\n",
      "Fizz 24\n",
      "Buzz 25\n",
      "26\n",
      "Fizz 27\n",
      "28\n",
      "29\n",
      "FizzBuzz 30\n",
      "31\n",
      "32\n",
      "Fizz 33\n",
      "34\n",
      "Buzz 35\n",
      "Fizz 36\n",
      "37\n",
      "38\n",
      "Fizz 39\n",
      "Buzz 40\n",
      "41\n",
      "Fizz 42\n",
      "43\n",
      "44\n",
      "FizzBuzz 45\n",
      "46\n",
      "47\n",
      "Fizz 48\n",
      "49\n",
      "Buzz 50\n",
      "Fizz 51\n",
      "52\n",
      "53\n",
      "Fizz 54\n",
      "Buzz 55\n",
      "56\n",
      "Fizz 57\n",
      "58\n",
      "59\n",
      "FizzBuzz 60\n",
      "61\n",
      "62\n",
      "Fizz 63\n",
      "64\n",
      "Buzz 65\n",
      "Fizz 66\n",
      "67\n",
      "68\n",
      "Fizz 69\n",
      "Buzz 70\n",
      "71\n",
      "Fizz 72\n",
      "73\n",
      "74\n",
      "FizzBuzz 75\n",
      "76\n",
      "77\n",
      "Fizz 78\n",
      "79\n",
      "Buzz 80\n",
      "Fizz 81\n",
      "82\n",
      "83\n",
      "Fizz 84\n",
      "Buzz 85\n",
      "86\n",
      "Fizz 87\n",
      "88\n",
      "89\n",
      "FizzBuzz 90\n",
      "91\n",
      "92\n",
      "Fizz 93\n",
      "94\n",
      "Buzz 95\n",
      "Fizz 96\n",
      "97\n",
      "98\n",
      "Fizz 99\n"
     ]
    }
   ],
   "source": [
    "for i in range(1, 100):\n",
    " if(i % 3 == 0 and i % 5 == 0):\n",
    "     print(\"FizzBuzz\", i)\n",
    " elif (i % 3 == 0):\n",
    "     print(\"Fizz\", i)\n",
    " elif(i % 5 == 0):\n",
    "     print(\"Buzz\", i)\n",
    " else: \n",
    "     print(i)"
   ]
  },
  {
   "cell_type": "code",
   "execution_count": 98,
   "id": "2fae0f71",
   "metadata": {},
   "outputs": [
    {
     "name": "stdout",
     "output_type": "stream",
     "text": [
      "203\n",
      "217\n",
      "224\n",
      "231\n",
      "238\n",
      "252\n",
      "259\n",
      "266\n",
      "273\n",
      "287\n",
      "294\n",
      "301\n",
      "308\n"
     ]
    }
   ],
   "source": [
    "for i in range(202, 321):\n",
    " if i % 7 == 0 and i % 5 != 0:\n",
    "     print(i)"
   ]
  },
  {
   "cell_type": "code",
   "execution_count": 100,
   "id": "2cac3b04",
   "metadata": {},
   "outputs": [
    {
     "name": "stdout",
     "output_type": "stream",
     "text": [
      "Data Science\n",
      "Data Science\n",
      "Data Science\n",
      "Data Science\n",
      "Data Science\n"
     ]
    }
   ],
   "source": [
    "a = \"Data Science\"\n",
    "for i in range(0, 5):\n",
    " print(a)"
   ]
  },
  {
   "cell_type": "code",
   "execution_count": 102,
   "id": "021490dc",
   "metadata": {},
   "outputs": [
    {
     "name": "stdout",
     "output_type": "stream",
     "text": [
      "Good Bye\n"
     ]
    }
   ],
   "source": [
    "a = 56\n",
    "if a == 10:\n",
    " print(\"Hello\")\n",
    "else:\n",
    " print(\"Good Bye\")"
   ]
  },
  {
   "cell_type": "code",
   "execution_count": 104,
   "id": "dbe4e155",
   "metadata": {},
   "outputs": [
    {
     "name": "stdout",
     "output_type": "stream",
     "text": [
      "Number is Even\n"
     ]
    }
   ],
   "source": [
    "a = 2020\n",
    "if a % 2 == 0:\n",
    " print(\"Number is Even\")\n",
    "else:\n",
    " print(\"Number is Odd\")"
   ]
  },
  {
   "cell_type": "code",
   "execution_count": 105,
   "id": "db9976b1",
   "metadata": {},
   "outputs": [
    {
     "name": "stdout",
     "output_type": "stream",
     "text": [
      "Area of the rectangle is greater than the Perimeter of the rectangle\n"
     ]
    }
   ],
   "source": [
    "length = 5\n",
    "breadth = 10\n",
    "# find the area and perimeter of the rectangle\n",
    "Area = length * breadth \n",
    "Perimeter = 2 * (length + breadth)\n",
    "# check whether the area of the rectangle is greater than the perimeter of the rectangle\n",
    "if Area > Perimeter:\n",
    " print(\"Area of the rectangle is greater than the Perimeter of the rectangle\")\n",
    "else:\n",
    " print(\"Perimeter of the rectangle is greater than the Area of the rectangle\")"
   ]
  },
  {
   "cell_type": "code",
   "execution_count": 108,
   "id": "7a113233",
   "metadata": {},
   "outputs": [
    {
     "name": "stdout",
     "output_type": "stream",
     "text": [
      "Average= 78.0\n",
      "Grade C\n"
     ]
    }
   ],
   "source": [
    "marks_sub1 = 72\n",
    "marks_sub2 = 85\n",
    "marks_sub3 = 96\n",
    "marks_sub4 = 42\n",
    "marks_sub5 = 95\n",
    "avg = (marks_sub1 + marks_sub2 + marks_sub3 + marks_sub4 + marks_sub5) / 5\n",
    "print(\"Average=\", avg)\n",
    "if avg>90:\n",
    " print(\"Grade A\")\n",
    "elif avg>80:\n",
    " print(\"Grade B\")\n",
    "elif avg>70:\n",
    " print(\"Grade C\")\n",
    "elif avg>60:\n",
    " print(\"Grade D\")\n",
    "elif avg>50:\n",
    " print(\"Grade E\")\n",
    "else:\n",
    " print(\"Fail\")"
   ]
  },
  {
   "cell_type": "code",
   "execution_count": 112,
   "id": "d9b996fb",
   "metadata": {},
   "outputs": [
    {
     "name": "stdout",
     "output_type": "stream",
     "text": [
      "14\n",
      "4\n",
      "45\n",
      "1\n"
     ]
    }
   ],
   "source": [
    "def mths(a, b):\n",
    " print(a + b)\n",
    " print(a - b)\n",
    " print(a * b)\n",
    " print(a // b)\n",
    " \n",
    "mths(9, 5)"
   ]
  },
  {
   "cell_type": "code",
   "execution_count": 114,
   "id": "e7d996af",
   "metadata": {},
   "outputs": [],
   "source": [
    "def sq():\n",
    " for i in range(1, 11):\n",
    "     print(i ^ 2)"
   ]
  },
  {
   "cell_type": "code",
   "execution_count": 116,
   "id": "c2c65b4d",
   "metadata": {},
   "outputs": [
    {
     "data": {
      "text/plain": [
       "49"
      ]
     },
     "execution_count": 116,
     "metadata": {},
     "output_type": "execute_result"
    }
   ],
   "source": [
    "def power(a, b):\n",
    " return a ** b\n",
    "power(7,2)"
   ]
  },
  {
   "cell_type": "code",
   "execution_count": 117,
   "id": "71ba2cdc",
   "metadata": {},
   "outputs": [
    {
     "data": {
      "text/plain": [
       "25.0"
      ]
     },
     "execution_count": 117,
     "metadata": {},
     "output_type": "execute_result"
    }
   ],
   "source": [
    "def sq(base, height):\n",
    " return 0.5 * base * height\n",
    "sq(5, 10)"
   ]
  },
  {
   "cell_type": "code",
   "execution_count": 118,
   "id": "1c4a12e4",
   "metadata": {},
   "outputs": [
    {
     "name": "stdout",
     "output_type": "stream",
     "text": [
      "I am from Sweden\n"
     ]
    }
   ],
   "source": [
    "def greet(country):\n",
    " print(\"I am from\", country)\n",
    "greet(\"Sweden\")"
   ]
  },
  {
   "cell_type": "code",
   "execution_count": 119,
   "id": "324df907",
   "metadata": {},
   "outputs": [
    {
     "name": "stdout",
     "output_type": "stream",
     "text": [
      "Temperature in Fahrenheit = 68.0\n"
     ]
    }
   ],
   "source": [
    "def convert(celsius):\n",
    " fah = 1.8 * celsius + 32\n",
    " print(\"Temperature in Fahrenheit =\", fah)\n",
    "convert(20)"
   ]
  }
 ],
 "metadata": {
  "kernelspec": {
   "display_name": "Python 3",
   "language": "python",
   "name": "python3"
  },
  "language_info": {
   "codemirror_mode": {
    "name": "ipython",
    "version": 3
   },
   "file_extension": ".py",
   "mimetype": "text/x-python",
   "name": "python",
   "nbconvert_exporter": "python",
   "pygments_lexer": "ipython3",
   "version": "3.8.8"
  }
 },
 "nbformat": 4,
 "nbformat_minor": 5
}
